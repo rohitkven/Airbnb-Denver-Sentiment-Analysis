{
 "cells": [
  {
   "cell_type": "markdown",
   "metadata": {},
   "source": [
    "# Airbnb Sentiment Analysis"
   ]
  },
  {
   "cell_type": "markdown",
   "metadata": {},
   "source": [
    "[Airbnb](https://www.airbnb.com/) is a popular online marketplace that connects people who rent their space to people who are looking for accomodations in that area\n",
    "\n",
    "Customers can leave reviews for the rented space and sometimes bad ones can scare people away.\n",
    "\n",
    "We'll analyze how's the review looks like, from Airbnb public data."
   ]
  },
  {
   "cell_type": "markdown",
   "metadata": {},
   "source": [
    "## Business Understanding\n",
    "\n",
    "Bad review could turn customers away.\n",
    "\n",
    "It's now common for a customer to do their own research before deciding a buy. \n",
    "Some aspects they like to compare are price, product review, brand, etc. \n",
    "During their own research, consumer able to look for positive or negative reviews.\n",
    "\n",
    "\n",
    "A study founds that online reviews affect [67%](https://soundwave.co.uk/blog/study-finds-67-of-consumers-are-influenced-by-online-reviews) of consumer purchasing decision. \n",
    "Positive reviews would increase the reputation, and able to drive more sales. \n",
    "Meanwhile, negative reviews could be detrimental to business. Revenue Loss, Undermine brand image, drive away customer visit, and low search traffic.\n",
    "\n",
    "Thus, it's essential for the business to find bad review and take action to improve the product/service\n",
    "\n",
    "These are the questions that we wish to answer in this analysis : \n",
    "- How to identify positive and negative reviews? \n",
    "- What are the popular words from the customers? \n",
    "- How to detect negative reviews and does it robust enough to detect the sentiment?"
   ]
  },
  {
   "cell_type": "markdown",
   "metadata": {},
   "source": [
    "## Data Understanding\n",
    "\n",
    "The data taken from Inside Airbnb (http://insideairbnb.com) for the city of Denver, CO\n",
    "- denver_listings : Contains the description of review and ratings\n",
    "\n",
    "- denver_reviews: contains ID for reviewer and comments \n",
    "    \n",
    "First, we will find the overall rating of the service and find the popular review words.\n",
    "\n",
    "Then we will use the sentiment analysis to find bad reviews\n",
    "\n",
    "The sentiment analysis uses NLTK, which is a powerful language tool to analyze text data. "
   ]
  },
  {
   "cell_type": "markdown",
   "metadata": {},
   "source": [
    "#### Import & Overview of dataset"
   ]
  },
  {
   "cell_type": "code",
   "execution_count": 7,
   "metadata": {},
   "outputs": [],
   "source": [
    "import pandas as pd \n",
    "#Load Dataset\n",
    "denver_raw_list = pd.read_excel(\"C:\\\\Users\\\\vrohi\\\\OneDrive\\\\Desktop\\\\GitHub Repo\\\\AirBnb Sentiment Analysis\\\\denver_listings.xlsx\")\n",
    " \n",
    "denver_raw_review = pd.read_excel(\"C:\\\\Users\\\\vrohi\\\\OneDrive\\\\Desktop\\\\GitHub Repo\\\\AirBnb Sentiment Analysis\\\\denver_reviews.xlsx\") \n"
   ]
  },
  {
   "cell_type": "code",
   "execution_count": 8,
   "metadata": {
    "scrolled": true
   },
   "outputs": [
    {
     "data": {
      "text/html": [
       "<div>\n",
       "<style scoped>\n",
       "    .dataframe tbody tr th:only-of-type {\n",
       "        vertical-align: middle;\n",
       "    }\n",
       "\n",
       "    .dataframe tbody tr th {\n",
       "        vertical-align: top;\n",
       "    }\n",
       "\n",
       "    .dataframe thead th {\n",
       "        text-align: right;\n",
       "    }\n",
       "</style>\n",
       "<table border=\"1\" class=\"dataframe\">\n",
       "  <thead>\n",
       "    <tr style=\"text-align: right;\">\n",
       "      <th></th>\n",
       "      <th>id</th>\n",
       "      <th>listing_url</th>\n",
       "      <th>scrape_id</th>\n",
       "      <th>last_scraped</th>\n",
       "      <th>name</th>\n",
       "      <th>description</th>\n",
       "      <th>neighborhood_overview</th>\n",
       "      <th>picture_url</th>\n",
       "      <th>host_id</th>\n",
       "      <th>host_url</th>\n",
       "      <th>...</th>\n",
       "      <th>review_scores_communication</th>\n",
       "      <th>review_scores_location</th>\n",
       "      <th>review_scores_value</th>\n",
       "      <th>license</th>\n",
       "      <th>instant_bookable</th>\n",
       "      <th>calculated_host_listings_count</th>\n",
       "      <th>calculated_host_listings_count_entire_homes</th>\n",
       "      <th>calculated_host_listings_count_private_rooms</th>\n",
       "      <th>calculated_host_listings_count_shared_rooms</th>\n",
       "      <th>reviews_per_month</th>\n",
       "    </tr>\n",
       "  </thead>\n",
       "  <tbody>\n",
       "    <tr>\n",
       "      <th>0</th>\n",
       "      <td>177</td>\n",
       "      <td>https://www.airbnb.com/rooms/177</td>\n",
       "      <td>20220329234803</td>\n",
       "      <td>2022-03-30</td>\n",
       "      <td>Tiny Home in the Heart of the City- ECO FRIENDLY</td>\n",
       "      <td>160 sq ft + 80 sq ft loft for sleeping, Sleeps...</td>\n",
       "      <td>Quiet neighborhood next to park, creeks and bi...</td>\n",
       "      <td>https://a0.muscache.com/pictures/a1745ab2-b3a0...</td>\n",
       "      <td>615</td>\n",
       "      <td>https://www.airbnb.com/users/show/615</td>\n",
       "      <td>...</td>\n",
       "      <td>4.93</td>\n",
       "      <td>4.83</td>\n",
       "      <td>4.77</td>\n",
       "      <td>2016-BFN-0004968</td>\n",
       "      <td>f</td>\n",
       "      <td>2</td>\n",
       "      <td>2</td>\n",
       "      <td>0</td>\n",
       "      <td>0</td>\n",
       "      <td>1.49</td>\n",
       "    </tr>\n",
       "    <tr>\n",
       "      <th>1</th>\n",
       "      <td>360</td>\n",
       "      <td>https://www.airbnb.com/rooms/360</td>\n",
       "      <td>20220329234803</td>\n",
       "      <td>2022-03-30</td>\n",
       "      <td>Sit in the Peaceful Garden of the Chickadee Co...</td>\n",
       "      <td>Enjoy the famous Colorado weather and unplug i...</td>\n",
       "      <td>The cottage is located in the center of Lower ...</td>\n",
       "      <td>https://a0.muscache.com/pictures/monet/Select-...</td>\n",
       "      <td>666</td>\n",
       "      <td>https://www.airbnb.com/users/show/666</td>\n",
       "      <td>...</td>\n",
       "      <td>5.00</td>\n",
       "      <td>5.00</td>\n",
       "      <td>4.91</td>\n",
       "      <td>2017-BFN-0002177</td>\n",
       "      <td>f</td>\n",
       "      <td>2</td>\n",
       "      <td>2</td>\n",
       "      <td>0</td>\n",
       "      <td>0</td>\n",
       "      <td>3.82</td>\n",
       "    </tr>\n",
       "    <tr>\n",
       "      <th>2</th>\n",
       "      <td>364</td>\n",
       "      <td>https://www.airbnb.com/rooms/364</td>\n",
       "      <td>20220329234803</td>\n",
       "      <td>2022-03-30</td>\n",
       "      <td>Lodo / RiNo LOFT  via airport train</td>\n",
       "      <td>Modern 1,000 square foot loft in the heart of ...</td>\n",
       "      <td>Ten brewpubs within walking distance, two grea...</td>\n",
       "      <td>https://a0.muscache.com/pictures/11766413/a2c5...</td>\n",
       "      <td>783</td>\n",
       "      <td>https://www.airbnb.com/users/show/783</td>\n",
       "      <td>...</td>\n",
       "      <td>4.96</td>\n",
       "      <td>4.65</td>\n",
       "      <td>4.71</td>\n",
       "      <td>NaN</td>\n",
       "      <td>f</td>\n",
       "      <td>1</td>\n",
       "      <td>1</td>\n",
       "      <td>0</td>\n",
       "      <td>0</td>\n",
       "      <td>0.56</td>\n",
       "    </tr>\n",
       "  </tbody>\n",
       "</table>\n",
       "<p>3 rows × 74 columns</p>\n",
       "</div>"
      ],
      "text/plain": [
       "    id                       listing_url       scrape_id last_scraped  \\\n",
       "0  177  https://www.airbnb.com/rooms/177  20220329234803   2022-03-30   \n",
       "1  360  https://www.airbnb.com/rooms/360  20220329234803   2022-03-30   \n",
       "2  364  https://www.airbnb.com/rooms/364  20220329234803   2022-03-30   \n",
       "\n",
       "                                                name  \\\n",
       "0   Tiny Home in the Heart of the City- ECO FRIENDLY   \n",
       "1  Sit in the Peaceful Garden of the Chickadee Co...   \n",
       "2                Lodo / RiNo LOFT  via airport train   \n",
       "\n",
       "                                         description  \\\n",
       "0  160 sq ft + 80 sq ft loft for sleeping, Sleeps...   \n",
       "1  Enjoy the famous Colorado weather and unplug i...   \n",
       "2  Modern 1,000 square foot loft in the heart of ...   \n",
       "\n",
       "                               neighborhood_overview  \\\n",
       "0  Quiet neighborhood next to park, creeks and bi...   \n",
       "1  The cottage is located in the center of Lower ...   \n",
       "2  Ten brewpubs within walking distance, two grea...   \n",
       "\n",
       "                                         picture_url  host_id  \\\n",
       "0  https://a0.muscache.com/pictures/a1745ab2-b3a0...      615   \n",
       "1  https://a0.muscache.com/pictures/monet/Select-...      666   \n",
       "2  https://a0.muscache.com/pictures/11766413/a2c5...      783   \n",
       "\n",
       "                                host_url  ... review_scores_communication  \\\n",
       "0  https://www.airbnb.com/users/show/615  ...                        4.93   \n",
       "1  https://www.airbnb.com/users/show/666  ...                        5.00   \n",
       "2  https://www.airbnb.com/users/show/783  ...                        4.96   \n",
       "\n",
       "  review_scores_location review_scores_value           license  \\\n",
       "0                   4.83                4.77  2016-BFN-0004968   \n",
       "1                   5.00                4.91  2017-BFN-0002177   \n",
       "2                   4.65                4.71               NaN   \n",
       "\n",
       "  instant_bookable  calculated_host_listings_count  \\\n",
       "0                f                               2   \n",
       "1                f                               2   \n",
       "2                f                               1   \n",
       "\n",
       "   calculated_host_listings_count_entire_homes  \\\n",
       "0                                            2   \n",
       "1                                            2   \n",
       "2                                            1   \n",
       "\n",
       "  calculated_host_listings_count_private_rooms  \\\n",
       "0                                            0   \n",
       "1                                            0   \n",
       "2                                            0   \n",
       "\n",
       "  calculated_host_listings_count_shared_rooms reviews_per_month  \n",
       "0                                           0              1.49  \n",
       "1                                           0              3.82  \n",
       "2                                           0              0.56  \n",
       "\n",
       "[3 rows x 74 columns]"
      ]
     },
     "metadata": {},
     "output_type": "display_data"
    },
    {
     "data": {
      "text/html": [
       "<div>\n",
       "<style scoped>\n",
       "    .dataframe tbody tr th:only-of-type {\n",
       "        vertical-align: middle;\n",
       "    }\n",
       "\n",
       "    .dataframe tbody tr th {\n",
       "        vertical-align: top;\n",
       "    }\n",
       "\n",
       "    .dataframe thead th {\n",
       "        text-align: right;\n",
       "    }\n",
       "</style>\n",
       "<table border=\"1\" class=\"dataframe\">\n",
       "  <thead>\n",
       "    <tr style=\"text-align: right;\">\n",
       "      <th></th>\n",
       "      <th>listing_id</th>\n",
       "      <th>id</th>\n",
       "      <th>date</th>\n",
       "      <th>reviewer_id</th>\n",
       "      <th>reviewer_name</th>\n",
       "      <th>comments</th>\n",
       "    </tr>\n",
       "  </thead>\n",
       "  <tbody>\n",
       "    <tr>\n",
       "      <th>0</th>\n",
       "      <td>177</td>\n",
       "      <td>99461681</td>\n",
       "      <td>2016-04-09 00:00:00</td>\n",
       "      <td>78348548</td>\n",
       "      <td>Brenna</td>\n",
       "      <td>Great place to stay! Definitely a tiny home, b...</td>\n",
       "    </tr>\n",
       "    <tr>\n",
       "      <th>1</th>\n",
       "      <td>177</td>\n",
       "      <td>101460574</td>\n",
       "      <td>9/13/16</td>\n",
       "      <td>72125554</td>\n",
       "      <td>Rachael</td>\n",
       "      <td>Joe was very friendly and gave us all the info...</td>\n",
       "    </tr>\n",
       "    <tr>\n",
       "      <th>2</th>\n",
       "      <td>177</td>\n",
       "      <td>101681475</td>\n",
       "      <td>9/14/16</td>\n",
       "      <td>21300329</td>\n",
       "      <td>Haley</td>\n",
       "      <td>Amazing property and Joe was a great host! Eve...</td>\n",
       "    </tr>\n",
       "  </tbody>\n",
       "</table>\n",
       "</div>"
      ],
      "text/plain": [
       "   listing_id         id                 date  reviewer_id reviewer_name  \\\n",
       "0         177   99461681  2016-04-09 00:00:00     78348548        Brenna   \n",
       "1         177  101460574              9/13/16     72125554       Rachael   \n",
       "2         177  101681475              9/14/16     21300329         Haley   \n",
       "\n",
       "                                            comments  \n",
       "0  Great place to stay! Definitely a tiny home, b...  \n",
       "1  Joe was very friendly and gave us all the info...  \n",
       "2  Amazing property and Joe was a great host! Eve...  "
      ]
     },
     "metadata": {},
     "output_type": "display_data"
    }
   ],
   "source": [
    "#Look at the first rows from Listings and Review dataset\n",
    "display(denver_raw_list.head(3),denver_raw_review.head(3))"
   ]
  },
  {
   "cell_type": "markdown",
   "metadata": {},
   "source": [
    "#### All service aspects have Positive Review"
   ]
  },
  {
   "cell_type": "markdown",
   "metadata": {},
   "source": [
    "Airbnb have various aspects of customer experience such as check-in experience, room cleanliness,  location, communication, and also value.\n",
    "\n",
    "In the chart, all aspects also have positive rating business should maintain these effort to keep customers coming in\n",
    "\n",
    "There's still improvement to be made from the bad ratings\n",
    "We'll take a look at these bad reviews later and what kind of unpleasant experience they had during the stay"
   ]
  },
  {
   "cell_type": "code",
   "execution_count": 11,
   "metadata": {},
   "outputs": [
    {
     "data": {
      "image/png": "[encoded data removed]",
      "text/plain": [
       "<Figure size 640x480 with 6 Axes>"
      ]
     },
     "metadata": {},
     "output_type": "display_data"
    }
   ],
   "source": [
    "import matplotlib.pyplot as plt\n",
    "\n",
    "fig, ax = plt.subplots(2, 3)\n",
    "fig.tight_layout()\n",
    "\n",
    "ax[0, 0].hist(denver_list_df[\"review_scores_value\"]) #row=0, col=0\n",
    "ax[0, 0].set_title('Value')\n",
    "ax[1, 0].hist(denver_list_df[\"review_scores_checkin\"]) #row=1, col=0\n",
    "ax[1, 0].set_title('Check In')\n",
    "ax[0, 1].hist(denver_list_df[\"review_scores_cleanliness\"]) #row=0, col=1\n",
    "ax[0, 1].set_title('Cleanliness')\n",
    "ax[1, 1].hist(denver_list_df[\"review_scores_communication\"]) #row=1, col=1\n",
    "ax[1, 1].set_title('Communication')\n",
    "ax[1, 2].hist(denver_list_df[\"review_scores_location\"]) #row=1, col=2\n",
    "ax[1 ,2].set_title('Location')\n",
    "plt.show()"
   ]
  },
  {
   "cell_type": "markdown",
   "metadata": {},
   "source": [
    "### What are customers mostly saying\n"
   ]
  },
  {
   "cell_type": "markdown",
   "metadata": {},
   "source": [
    "We have checked that most customers have a great experience during the stay. \n",
    "\n",
    "In all aspects, the scores was pretty high.\n",
    "\n",
    "It's interesting to also look at the most frequent words from the comments."
   ]
  },
  {
   "cell_type": "markdown",
   "metadata": {},
   "source": [
    "### Fill Missing Reviews as Blank"
   ]
  },
  {
   "cell_type": "code",
   "execution_count": 12,
   "metadata": {},
   "outputs": [
    {
     "data": {
      "text/plain": [
       "50"
      ]
     },
     "execution_count": 12,
     "metadata": {},
     "output_type": "execute_result"
    }
   ],
   "source": [
    "#count missing values\n",
    "denver_review_df['comments'].isnull().sum()"
   ]
  },
  {
   "cell_type": "markdown",
   "metadata": {},
   "source": [
    "There are 50 rows that have missing values and we fill it with blanks.\n",
    "\n",
    "If we did not perform Missing Value Treatment (MVT), performing word count will occur error.\n",
    "\n",
    "It's safe to fill it with blanks, since customer did not leave review about their stay."
   ]
  },
  {
   "cell_type": "code",
   "execution_count": 14,
   "metadata": {},
   "outputs": [],
   "source": [
    "import itertools\n",
    "import collections\n",
    "\n",
    "def convert(lst): \n",
    "    return ([i for item in lst for i in str(item).lower().split()]) \n",
    "\n",
    "all_words_review = convert(denver_review_df['comments'].fillna(\"\")) #Fill in missing reviews with blank\n"
   ]
  },
  {
   "cell_type": "markdown",
   "metadata": {},
   "source": [
    "The texts also lowered to avoid overlapping words that have similar intention.\n",
    "\n",
    "Then, split each word to count their frequency"
   ]
  },
  {
   "cell_type": "markdown",
   "metadata": {},
   "source": [
    "### Word Frequency"
   ]
  },
  {
   "cell_type": "code",
   "execution_count": 15,
   "metadata": {},
   "outputs": [
    {
     "data": {
      "text/html": [
       "<div>\n",
       "<style scoped>\n",
       "    .dataframe tbody tr th:only-of-type {\n",
       "        vertical-align: middle;\n",
       "    }\n",
       "\n",
       "    .dataframe tbody tr th {\n",
       "        vertical-align: top;\n",
       "    }\n",
       "\n",
       "    .dataframe thead th {\n",
       "        text-align: right;\n",
       "    }\n",
       "</style>\n",
       "<table border=\"1\" class=\"dataframe\">\n",
       "  <thead>\n",
       "    <tr style=\"text-align: right;\">\n",
       "      <th></th>\n",
       "      <th>words</th>\n",
       "      <th>count</th>\n",
       "    </tr>\n",
       "  </thead>\n",
       "  <tbody>\n",
       "    <tr>\n",
       "      <th>0</th>\n",
       "      <td>and</td>\n",
       "      <td>484652</td>\n",
       "    </tr>\n",
       "    <tr>\n",
       "      <th>1</th>\n",
       "      <td>the</td>\n",
       "      <td>419568</td>\n",
       "    </tr>\n",
       "    <tr>\n",
       "      <th>2</th>\n",
       "      <td>to</td>\n",
       "      <td>304025</td>\n",
       "    </tr>\n",
       "    <tr>\n",
       "      <th>3</th>\n",
       "      <td>a</td>\n",
       "      <td>291565</td>\n",
       "    </tr>\n",
       "    <tr>\n",
       "      <th>4</th>\n",
       "      <td>was</td>\n",
       "      <td>263683</td>\n",
       "    </tr>\n",
       "  </tbody>\n",
       "</table>\n",
       "</div>"
      ],
      "text/plain": [
       "  words   count\n",
       "0   and  484652\n",
       "1   the  419568\n",
       "2    to  304025\n",
       "3     a  291565\n",
       "4   was  263683"
      ]
     },
     "execution_count": 15,
     "metadata": {},
     "output_type": "execute_result"
    }
   ],
   "source": [
    "count_word = collections.Counter(all_words_review) #Count word frequency\n",
    "\n",
    "clean_word_count = pd.DataFrame(count_word.most_common(5),\n",
    "                             columns=['words', 'count'])\n",
    "\n",
    "clean_word_count.head()"
   ]
  },
  {
   "cell_type": "markdown",
   "metadata": {},
   "source": [
    "The word frequency runs well, but we cannot understand what these words mean.\n",
    "\n",
    "We wouldn't want these words showed up and we can remove them with `nltk` library"
   ]
  },
  {
   "cell_type": "markdown",
   "metadata": {},
   "source": [
    "# Removing Stopwords"
   ]
  },
  {
   "cell_type": "markdown",
   "metadata": {},
   "source": [
    "Stopwords are common in any language.\n",
    "\n",
    "But we should remove them when analyzing text data, as this doesn't add much value for our analysis"
   ]
  },
  {
   "cell_type": "code",
   "execution_count": 16,
   "metadata": {},
   "outputs": [],
   "source": [
    "import nltk\n",
    "from nltk.corpus import stopwords"
   ]
  },
  {
   "cell_type": "code",
   "execution_count": 17,
   "metadata": {},
   "outputs": [
    {
     "data": {
      "text/plain": [
       "['couldn',\n",
       " 'we',\n",
       " 'because',\n",
       " 'didn',\n",
       " 'itself',\n",
       " 'as',\n",
       " 'between',\n",
       " 'up',\n",
       " 'o',\n",
       " 'off']"
      ]
     },
     "execution_count": 17,
     "metadata": {},
     "output_type": "execute_result"
    }
   ],
   "source": [
    "stop_words = set(stopwords.words(['english']))\n",
    "\n",
    "# View a few words from the set\n",
    "list(stop_words)[0:10]"
   ]
  },
  {
   "cell_type": "markdown",
   "metadata": {},
   "source": [
    "Here's some examples of english and dutch stopwords and we'll remove them "
   ]
  },
  {
   "cell_type": "code",
   "execution_count": 18,
   "metadata": {},
   "outputs": [],
   "source": [
    "words_review_cleaned = [word for word in all_words_review if word not in stop_words]\n",
    "words_review_count = collections.Counter(words_review_cleaned)\n",
    "\n",
    "word_review_count_df = pd.DataFrame(words_review_count.most_common(15),\n",
    "                             columns=['words', 'count'])"
   ]
  },
  {
   "cell_type": "code",
   "execution_count": 19,
   "metadata": {},
   "outputs": [
    {
     "data": {
      "image/png": "[encoded data removed]",
      "text/plain": [
       "<Figure size 800x800 with 1 Axes>"
      ]
     },
     "metadata": {},
     "output_type": "display_data"
    }
   ],
   "source": [
    "fig, ax = plt.subplots(figsize=(8, 8))\n",
    "\n",
    "# Plot horizontal bar graph\n",
    "word_review_count_df.sort_values(by='count').plot.barh(x='words',\n",
    "                      y='count',\n",
    "                      ax=ax,\n",
    "                      color=\"purple\")\n",
    "\n",
    "ax.set_title(\"Most Frequent Words (All Review)\")\n",
    "\n",
    "plt.show()"
   ]
  },
  {
   "cell_type": "markdown",
   "metadata": {},
   "source": [
    "Notice that the result improved by producing more meaningful words\n",
    "\n",
    "As the rating suggests, most review expresses positive service.\n",
    "\n",
    "Some of the aspects was mentionted, such as  _\"Great\"_  , _\"Place\"_ , _\"Stay\"_ , _\"Location\"_ , _\"Clean\"_\n"
   ]
  },
  {
   "cell_type": "markdown",
   "metadata": {},
   "source": [
    "# Sentiment Analysis to detect good/bad Reviews"
   ]
  },
  {
   "cell_type": "markdown",
   "metadata": {
    "collapsed": true
   },
   "source": [
    "Sentiment analysis is the process of identifying people's attitude and emotional states from a language.\n",
    "\n",
    "In the application, it able to classify good/bad reviews.\n",
    "\n",
    "It is a technique uses for natural language processing to interpret and classify emotions.\n",
    "\n",
    "The output would summarize the positive, negative, or neutral sentiment of these reviews.\n",
    "\n",
    "Since sentiment analysis is a [complex subject](http://www.360doc.com/content/16/0426/18/2459_554012119.shtml) , the accuracy may not be perfect.\n",
    "\n",
    "But it's easier for us to find a bad review using this approach when there's a lot of data\n",
    "\n",
    "We will be using `nltk` from python to analyze the data"
   ]
  },
  {
   "cell_type": "code",
   "execution_count": 21,
   "metadata": {},
   "outputs": [
    {
     "name": "stdout",
     "output_type": "stream",
     "text": [
      "Joe was very friendly and gave us all the information we needed. The house was exactly as described on the site. It was fun and thought provoking experiencing a 100% Eco-friendly space. We plan on staying here again next time we're in Denver!\n",
      "compound: 0.7419, neg: 0.038, neu: 0.814, pos: 0.148, \n",
      "Amazing property and Joe was a great host! Even offered to walk my dog while we were out! Will definitely be back\n",
      "compound: 0.9039, neg: 0.0, neu: 0.617, pos: 0.383, \n"
     ]
    }
   ],
   "source": [
    "# Snippet from :\n",
    "# https://www.kaggle.com/residentmario/sentiment-analysis-and-collocation-of-reviews\n",
    "\n",
    "from nltk.sentiment.vader import SentimentIntensityAnalyzer\n",
    "sid = SentimentIntensityAnalyzer()\n",
    "for sentence in denver_review_df['comments'].values[1:3]:\n",
    "    print(sentence)\n",
    "    ss = sid.polarity_scores(sentence)\n",
    "    for k in sorted(ss):\n",
    "        print('{0}: {1}, '.format(k, ss[k]), end='')\n",
    "    print()"
   ]
  },
  {
   "cell_type": "markdown",
   "metadata": {},
   "source": [
    "Let's look at some of the comment example, and how `nltk` determines a review\n",
    "\n",
    "`compound` is the normalized weighted score.\n",
    "\n",
    "The metric is useful when determining a uni-dimensional sentiment over a sentence.\n",
    "\n",
    "A positive or negative sentiment being +1 as the most positive and -1 as the most negative\n",
    "\n",
    "The `pos`, `neu`, and `neg` scores are ratios for proportions of text that fall in each category (the values will add up to 1 if summed) . These metrics are useful if we want a multi-dimensional sentiment over a sentence.\n",
    "\n",
    "\n",
    "More about the [scoring](https://github.com/cjhutto/vaderSentiment)"
   ]
  },
  {
   "cell_type": "code",
   "execution_count": 24,
   "metadata": {},
   "outputs": [],
   "source": [
    "from nltk.corpus import stopwords   # stopwords to detect language\n",
    "from nltk import wordpunct_tokenize # function to split up our words\n",
    "\n",
    "def get_language_likelihood(input_text):\n",
    "    \"\"\"Return a dictionary of languages and their likelihood of being the \n",
    "    natural language of the input text\n",
    "    \"\"\"\n",
    " \n",
    "    input_text = input_text.lower()\n",
    "    input_words = wordpunct_tokenize(input_text)\n",
    " \n",
    "    language_likelihood = {}\n",
    "    total_matches = 0\n",
    "    for language in stopwords._fileids:\n",
    "        language_likelihood[language] = len(set(input_words) &\n",
    "                set(stopwords.words(language)))\n",
    " \n",
    "    return language_likelihood\n",
    " \n",
    "def get_language(input_text):\n",
    "    \"\"\"Return the most likely language of the given text\n",
    "    \"\"\" \n",
    "    likelihoods = get_language_likelihood(input_text)\n",
    "    return sorted(likelihoods, key=likelihoods.get, reverse=True)[0]\n",
    "\n",
    "reviews_f = [str(r) for r in denver_review_df['comments'] if pd.notnull(r) and isinstance(r, str) and get_language(r) in ['english']]\n",
    "\n",
    "\n",
    "pscores = [sid.polarity_scores(comment) for comment in reviews_f]"
   ]
  },
  {
   "cell_type": "markdown",
   "metadata": {},
   "source": [
    "After taking all sentiment scores from the comments,\n",
    "\n",
    "Let's take a look at the distributions"
   ]
  },
  {
   "cell_type": "markdown",
   "metadata": {},
   "source": [
    "##### Compound Scores"
   ]
  },
  {
   "cell_type": "code",
   "execution_count": 25,
   "metadata": {},
   "outputs": [
    {
     "data": {
      "text/plain": [
       "Text(0, 0.5, 'frequency')"
      ]
     },
     "execution_count": 25,
     "metadata": {},
     "output_type": "execute_result"
    },
    {
     "data": {
      "image/png": "[encoded data removed]",
      "text/plain": [
       "<Figure size 640x480 with 1 Axes>"
      ]
     },
     "metadata": {},
     "output_type": "display_data"
    }
   ],
   "source": [
    "#Histogram plot neutral\n",
    "pd.Series([score['compound'] for score in pscores]).plot(kind='hist')\n",
    "\n",
    "plt.title('Compound Scores')\n",
    "plt.xlabel('Scores')\n",
    "plt.ylabel('frequency')"
   ]
  },
  {
   "cell_type": "markdown",
   "metadata": {},
   "source": [
    "##### Neutral Scores"
   ]
  },
  {
   "cell_type": "code",
   "execution_count": 26,
   "metadata": {},
   "outputs": [
    {
     "data": {
      "text/plain": [
       "Text(0, 0.5, 'frequency')"
      ]
     },
     "execution_count": 26,
     "metadata": {},
     "output_type": "execute_result"
    },
    {
     "data": {
      "image/png": "[encoded data removed]",
      "text/plain": [
       "<Figure size 640x480 with 1 Axes>"
      ]
     },
     "metadata": {},
     "output_type": "display_data"
    }
   ],
   "source": [
    "#Histogram plot neutral\n",
    "pd.Series([score['neu'] for score in pscores]).plot(kind='hist')\n",
    "\n",
    "plt.title('Neutral Scores')\n",
    "plt.xlabel('Scores')\n",
    "plt.ylabel('frequency')"
   ]
  },
  {
   "cell_type": "markdown",
   "metadata": {},
   "source": [
    "##### Positive Scores"
   ]
  },
  {
   "cell_type": "code",
   "execution_count": 27,
   "metadata": {},
   "outputs": [
    {
     "data": {
      "text/plain": [
       "Text(0, 0.5, 'frequency')"
      ]
     },
     "execution_count": 27,
     "metadata": {},
     "output_type": "execute_result"
    },
    {
     "data": {
      "image/png": "[encoded data removed]",
      "text/plain": [
       "<Figure size 640x480 with 1 Axes>"
      ]
     },
     "metadata": {},
     "output_type": "display_data"
    }
   ],
   "source": [
    "#Histogram plot positive\n",
    "pd.Series([score['pos'] for score in pscores]).plot(kind='hist')\n",
    "\n",
    "plt.title('Positive Scores')\n",
    "plt.xlabel('Scores')\n",
    "plt.ylabel('frequency')"
   ]
  },
  {
   "cell_type": "markdown",
   "metadata": {},
   "source": [
    "##### Negative Scores"
   ]
  },
  {
   "cell_type": "markdown",
   "metadata": {},
   "source": [
    "Surprisingly, the negative scores was mostly zero.\n",
    "\n",
    "This implies that indeed the experience was pleasant for most Airbnb stay."
   ]
  },
  {
   "cell_type": "code",
   "execution_count": 28,
   "metadata": {},
   "outputs": [
    {
     "data": {
      "text/plain": [
       "Text(0, 0.5, 'frequency')"
      ]
     },
     "execution_count": 28,
     "metadata": {},
     "output_type": "execute_result"
    },
    {
     "data": {
      "image/png": "[encoded data removed]",
      "text/plain": [
       "<Figure size 640x480 with 1 Axes>"
      ]
     },
     "metadata": {},
     "output_type": "display_data"
    }
   ],
   "source": [
    "#Histogram plot negative\n",
    "pd.Series([score['neg'] for score in pscores]).plot(kind='hist', bins=100)\n",
    "\n",
    "plt.title('Negative Scores')\n",
    "plt.xlabel('Scores')\n",
    "plt.ylabel('frequency')"
   ]
  },
  {
   "cell_type": "code",
   "execution_count": 33,
   "metadata": {},
   "outputs": [],
   "source": [
    "#Create dataframe for sentiment analysis\n",
    "scored_reviews = pd.DataFrame()\n",
    "scored_reviews['review'] = [r for r in reviews_f if get_language(r) in ['english']]\n",
    "scored_reviews['compound'] = [score['compound'] for score in pscores]\n",
    "scored_reviews['negativity'] = [score['neg'] for score in pscores]\n",
    "scored_reviews['neutrality'] = [score['neu'] for score in pscores]\n",
    "scored_reviews['positivity'] = [score['pos'] for score in pscores]"
   ]
  },
  {
   "cell_type": "markdown",
   "metadata": {},
   "source": [
    "#### Inspecting Bad review"
   ]
  },
  {
   "cell_type": "code",
   "execution_count": 38,
   "metadata": {},
   "outputs": [
    {
     "data": {
      "text/plain": [
       "0.045219550739361104"
      ]
     },
     "execution_count": 38,
     "metadata": {},
     "output_type": "execute_result"
    }
   ],
   "source": [
    "2003/len(scored_reviews)"
   ]
  },
  {
   "cell_type": "code",
   "execution_count": 35,
   "metadata": {},
   "outputs": [
    {
     "data": {
      "text/html": [
       "<div>\n",
       "<style scoped>\n",
       "    .dataframe tbody tr th:only-of-type {\n",
       "        vertical-align: middle;\n",
       "    }\n",
       "\n",
       "    .dataframe tbody tr th {\n",
       "        vertical-align: top;\n",
       "    }\n",
       "\n",
       "    .dataframe thead th {\n",
       "        text-align: right;\n",
       "    }\n",
       "</style>\n",
       "<table border=\"1\" class=\"dataframe\">\n",
       "  <thead>\n",
       "    <tr style=\"text-align: right;\">\n",
       "      <th></th>\n",
       "      <th>review</th>\n",
       "      <th>compound</th>\n",
       "      <th>negativity</th>\n",
       "      <th>neutrality</th>\n",
       "      <th>positivity</th>\n",
       "    </tr>\n",
       "  </thead>\n",
       "  <tbody>\n",
       "    <tr>\n",
       "      <th>0</th>\n",
       "      <td>Great tiny home. Very ECO friendly and owner i...</td>\n",
       "      <td>0.8990</td>\n",
       "      <td>0.000</td>\n",
       "      <td>0.451</td>\n",
       "      <td>0.549</td>\n",
       "    </tr>\n",
       "    <tr>\n",
       "      <th>1</th>\n",
       "      <td>Our experience was great! Joe was very kind an...</td>\n",
       "      <td>0.9598</td>\n",
       "      <td>0.000</td>\n",
       "      <td>0.467</td>\n",
       "      <td>0.533</td>\n",
       "    </tr>\n",
       "    <tr>\n",
       "      <th>2</th>\n",
       "      <td>This tiny home is very cool, modern, and eco-f...</td>\n",
       "      <td>0.9435</td>\n",
       "      <td>0.000</td>\n",
       "      <td>0.594</td>\n",
       "      <td>0.406</td>\n",
       "    </tr>\n",
       "    <tr>\n",
       "      <th>3</th>\n",
       "      <td>Great house! Loved staying here.</td>\n",
       "      <td>0.8516</td>\n",
       "      <td>0.000</td>\n",
       "      <td>0.266</td>\n",
       "      <td>0.734</td>\n",
       "    </tr>\n",
       "    <tr>\n",
       "      <th>4</th>\n",
       "      <td>Joe was friendly, informative and welcoming wh...</td>\n",
       "      <td>0.9622</td>\n",
       "      <td>0.000</td>\n",
       "      <td>0.491</td>\n",
       "      <td>0.509</td>\n",
       "    </tr>\n",
       "    <tr>\n",
       "      <th>...</th>\n",
       "      <td>...</td>\n",
       "      <td>...</td>\n",
       "      <td>...</td>\n",
       "      <td>...</td>\n",
       "      <td>...</td>\n",
       "    </tr>\n",
       "    <tr>\n",
       "      <th>44290</th>\n",
       "      <td>Very cute apartment in a convenient location- ...</td>\n",
       "      <td>0.8264</td>\n",
       "      <td>0.000</td>\n",
       "      <td>0.477</td>\n",
       "      <td>0.523</td>\n",
       "    </tr>\n",
       "    <tr>\n",
       "      <th>44291</th>\n",
       "      <td>Beautiful basement apartment in an excellent l...</td>\n",
       "      <td>0.9604</td>\n",
       "      <td>0.000</td>\n",
       "      <td>0.496</td>\n",
       "      <td>0.504</td>\n",
       "    </tr>\n",
       "    <tr>\n",
       "      <th>44292</th>\n",
       "      <td>The place is cute, she very Sweet.. I love her...</td>\n",
       "      <td>0.8539</td>\n",
       "      <td>0.000</td>\n",
       "      <td>0.519</td>\n",
       "      <td>0.481</td>\n",
       "    </tr>\n",
       "    <tr>\n",
       "      <th>44293</th>\n",
       "      <td>Great, affordable listing in a fantastic locat...</td>\n",
       "      <td>0.8398</td>\n",
       "      <td>0.000</td>\n",
       "      <td>0.500</td>\n",
       "      <td>0.500</td>\n",
       "    </tr>\n",
       "    <tr>\n",
       "      <th>44294</th>\n",
       "      <td>No fancy but comfortable</td>\n",
       "      <td>0.5927</td>\n",
       "      <td>0.199</td>\n",
       "      <td>0.248</td>\n",
       "      <td>0.553</td>\n",
       "    </tr>\n",
       "  </tbody>\n",
       "</table>\n",
       "<p>42682 rows × 5 columns</p>\n",
       "</div>"
      ],
      "text/plain": [
       "                                                  review  compound  \\\n",
       "0      Great tiny home. Very ECO friendly and owner i...    0.8990   \n",
       "1      Our experience was great! Joe was very kind an...    0.9598   \n",
       "2      This tiny home is very cool, modern, and eco-f...    0.9435   \n",
       "3                      Great house! Loved staying here.     0.8516   \n",
       "4      Joe was friendly, informative and welcoming wh...    0.9622   \n",
       "...                                                  ...       ...   \n",
       "44290  Very cute apartment in a convenient location- ...    0.8264   \n",
       "44291  Beautiful basement apartment in an excellent l...    0.9604   \n",
       "44292  The place is cute, she very Sweet.. I love her...    0.8539   \n",
       "44293  Great, affordable listing in a fantastic locat...    0.8398   \n",
       "44294                           No fancy but comfortable    0.5927   \n",
       "\n",
       "       negativity  neutrality  positivity  \n",
       "0           0.000       0.451       0.549  \n",
       "1           0.000       0.467       0.533  \n",
       "2           0.000       0.594       0.406  \n",
       "3           0.000       0.266       0.734  \n",
       "4           0.000       0.491       0.509  \n",
       "...           ...         ...         ...  \n",
       "44290       0.000       0.477       0.523  \n",
       "44291       0.000       0.496       0.504  \n",
       "44292       0.000       0.519       0.481  \n",
       "44293       0.000       0.500       0.500  \n",
       "44294       0.199       0.248       0.553  \n",
       "\n",
       "[42682 rows x 5 columns]"
      ]
     },
     "execution_count": 35,
     "metadata": {},
     "output_type": "execute_result"
    }
   ],
   "source": [
    "scored_reviews.query('positivity > 0')"
   ]
  },
  {
   "cell_type": "markdown",
   "metadata": {},
   "source": [
    "n =500376; (96,5% users)\n",
    "\n",
    "Not all review is positive, some have a negative compound that expresses an unpleasant stay."
   ]
  },
  {
   "cell_type": "code",
   "execution_count": 37,
   "metadata": {},
   "outputs": [
    {
     "data": {
      "text/html": [
       "<div>\n",
       "<style scoped>\n",
       "    .dataframe tbody tr th:only-of-type {\n",
       "        vertical-align: middle;\n",
       "    }\n",
       "\n",
       "    .dataframe tbody tr th {\n",
       "        vertical-align: top;\n",
       "    }\n",
       "\n",
       "    .dataframe thead th {\n",
       "        text-align: right;\n",
       "    }\n",
       "</style>\n",
       "<table border=\"1\" class=\"dataframe\">\n",
       "  <thead>\n",
       "    <tr style=\"text-align: right;\">\n",
       "      <th></th>\n",
       "      <th>review</th>\n",
       "      <th>compound</th>\n",
       "      <th>negativity</th>\n",
       "      <th>neutrality</th>\n",
       "      <th>positivity</th>\n",
       "    </tr>\n",
       "  </thead>\n",
       "  <tbody>\n",
       "    <tr>\n",
       "      <th>9</th>\n",
       "      <td>This was a great place to stop to be refreshed...</td>\n",
       "      <td>0.8930</td>\n",
       "      <td>0.071</td>\n",
       "      <td>0.547</td>\n",
       "      <td>0.382</td>\n",
       "    </tr>\n",
       "    <tr>\n",
       "      <th>38</th>\n",
       "      <td>The description of the property was accurate, ...</td>\n",
       "      <td>0.5770</td>\n",
       "      <td>0.078</td>\n",
       "      <td>0.760</td>\n",
       "      <td>0.162</td>\n",
       "    </tr>\n",
       "    <tr>\n",
       "      <th>121</th>\n",
       "      <td>Fantastic place! Alexandra is very informative...</td>\n",
       "      <td>0.7389</td>\n",
       "      <td>0.148</td>\n",
       "      <td>0.545</td>\n",
       "      <td>0.307</td>\n",
       "    </tr>\n",
       "    <tr>\n",
       "      <th>146</th>\n",
       "      <td>Rick did an amazing job to make our stay as co...</td>\n",
       "      <td>0.9453</td>\n",
       "      <td>0.056</td>\n",
       "      <td>0.602</td>\n",
       "      <td>0.342</td>\n",
       "    </tr>\n",
       "    <tr>\n",
       "      <th>215</th>\n",
       "      <td>Great location and very knowledgeable hosts. F...</td>\n",
       "      <td>0.5325</td>\n",
       "      <td>0.141</td>\n",
       "      <td>0.510</td>\n",
       "      <td>0.349</td>\n",
       "    </tr>\n",
       "    <tr>\n",
       "      <th>...</th>\n",
       "      <td>...</td>\n",
       "      <td>...</td>\n",
       "      <td>...</td>\n",
       "      <td>...</td>\n",
       "      <td>...</td>\n",
       "    </tr>\n",
       "    <tr>\n",
       "      <th>44250</th>\n",
       "      <td>Great place to crash for a few nights in Denve...</td>\n",
       "      <td>0.9117</td>\n",
       "      <td>0.096</td>\n",
       "      <td>0.393</td>\n",
       "      <td>0.511</td>\n",
       "    </tr>\n",
       "    <tr>\n",
       "      <th>44255</th>\n",
       "      <td>Very comfortable place to stay, love the color...</td>\n",
       "      <td>0.7707</td>\n",
       "      <td>0.130</td>\n",
       "      <td>0.433</td>\n",
       "      <td>0.437</td>\n",
       "    </tr>\n",
       "    <tr>\n",
       "      <th>44267</th>\n",
       "      <td>Great place a block from the heart of RiNo.  B...</td>\n",
       "      <td>0.6486</td>\n",
       "      <td>0.152</td>\n",
       "      <td>0.471</td>\n",
       "      <td>0.377</td>\n",
       "    </tr>\n",
       "    <tr>\n",
       "      <th>44277</th>\n",
       "      <td>Great place to stay! Communication was great, ...</td>\n",
       "      <td>0.7081</td>\n",
       "      <td>0.226</td>\n",
       "      <td>0.369</td>\n",
       "      <td>0.405</td>\n",
       "    </tr>\n",
       "    <tr>\n",
       "      <th>44294</th>\n",
       "      <td>No fancy but comfortable</td>\n",
       "      <td>0.5927</td>\n",
       "      <td>0.199</td>\n",
       "      <td>0.248</td>\n",
       "      <td>0.553</td>\n",
       "    </tr>\n",
       "  </tbody>\n",
       "</table>\n",
       "<p>2003 rows × 5 columns</p>\n",
       "</div>"
      ],
      "text/plain": [
       "                                                  review  compound  \\\n",
       "9      This was a great place to stop to be refreshed...    0.8930   \n",
       "38     The description of the property was accurate, ...    0.5770   \n",
       "121    Fantastic place! Alexandra is very informative...    0.7389   \n",
       "146    Rick did an amazing job to make our stay as co...    0.9453   \n",
       "215    Great location and very knowledgeable hosts. F...    0.5325   \n",
       "...                                                  ...       ...   \n",
       "44250  Great place to crash for a few nights in Denve...    0.9117   \n",
       "44255  Very comfortable place to stay, love the color...    0.7707   \n",
       "44267  Great place a block from the heart of RiNo.  B...    0.6486   \n",
       "44277  Great place to stay! Communication was great, ...    0.7081   \n",
       "44294                           No fancy but comfortable    0.5927   \n",
       "\n",
       "       negativity  neutrality  positivity  \n",
       "9           0.071       0.547       0.382  \n",
       "38          0.078       0.760       0.162  \n",
       "121         0.148       0.545       0.307  \n",
       "146         0.056       0.602       0.342  \n",
       "215         0.141       0.510       0.349  \n",
       "...           ...         ...         ...  \n",
       "44250       0.096       0.393       0.511  \n",
       "44255       0.130       0.433       0.437  \n",
       "44267       0.152       0.471       0.377  \n",
       "44277       0.226       0.369       0.405  \n",
       "44294       0.199       0.248       0.553  \n",
       "\n",
       "[2003 rows x 5 columns]"
      ]
     },
     "execution_count": 37,
     "metadata": {},
     "output_type": "execute_result"
    }
   ],
   "source": [
    "scored_reviews.query('negativity > 0')"
   ]
  },
  {
   "cell_type": "markdown",
   "metadata": {},
   "source": [
    "n =130700; (25% users)\n",
    "\n",
    "Also, some of the negative scores were not bad at all. Row 517987 has a high compound score, and the review seems positive."
   ]
  },
  {
   "cell_type": "code",
   "execution_count": 39,
   "metadata": {},
   "outputs": [
    {
     "data": {
      "text/html": [
       "<div>\n",
       "<style scoped>\n",
       "    .dataframe tbody tr th:only-of-type {\n",
       "        vertical-align: middle;\n",
       "    }\n",
       "\n",
       "    .dataframe tbody tr th {\n",
       "        vertical-align: top;\n",
       "    }\n",
       "\n",
       "    .dataframe thead th {\n",
       "        text-align: right;\n",
       "    }\n",
       "</style>\n",
       "<table border=\"1\" class=\"dataframe\">\n",
       "  <thead>\n",
       "    <tr style=\"text-align: right;\">\n",
       "      <th></th>\n",
       "      <th>review</th>\n",
       "      <th>compound</th>\n",
       "      <th>negativity</th>\n",
       "      <th>neutrality</th>\n",
       "      <th>positivity</th>\n",
       "    </tr>\n",
       "  </thead>\n",
       "  <tbody>\n",
       "    <tr>\n",
       "      <th>523</th>\n",
       "      <td>Phenomenal location. Summer travelers be aware...</td>\n",
       "      <td>-0.6240</td>\n",
       "      <td>0.195</td>\n",
       "      <td>0.805</td>\n",
       "      <td>0.000</td>\n",
       "    </tr>\n",
       "    <tr>\n",
       "      <th>1496</th>\n",
       "      <td>Didnâ€™t meet the host, but he was quick with ...</td>\n",
       "      <td>-0.1901</td>\n",
       "      <td>0.166</td>\n",
       "      <td>0.722</td>\n",
       "      <td>0.111</td>\n",
       "    </tr>\n",
       "    <tr>\n",
       "      <th>1657</th>\n",
       "      <td>We couldn't have more pleased with our stay! M...</td>\n",
       "      <td>-0.4951</td>\n",
       "      <td>0.186</td>\n",
       "      <td>0.814</td>\n",
       "      <td>0.000</td>\n",
       "    </tr>\n",
       "    <tr>\n",
       "      <th>1875</th>\n",
       "      <td>Sarah was very receptive to concerns and misun...</td>\n",
       "      <td>-0.1989</td>\n",
       "      <td>0.088</td>\n",
       "      <td>0.850</td>\n",
       "      <td>0.062</td>\n",
       "    </tr>\n",
       "    <tr>\n",
       "      <th>1902</th>\n",
       "      <td>I absolutely adored this house. It was perfect...</td>\n",
       "      <td>-0.0770</td>\n",
       "      <td>0.225</td>\n",
       "      <td>0.585</td>\n",
       "      <td>0.189</td>\n",
       "    </tr>\n",
       "    <tr>\n",
       "      <th>...</th>\n",
       "      <td>...</td>\n",
       "      <td>...</td>\n",
       "      <td>...</td>\n",
       "      <td>...</td>\n",
       "      <td>...</td>\n",
       "    </tr>\n",
       "    <tr>\n",
       "      <th>43418</th>\n",
       "      <td>The air-conditioning doesn't work. The upstair...</td>\n",
       "      <td>-0.6486</td>\n",
       "      <td>0.209</td>\n",
       "      <td>0.791</td>\n",
       "      <td>0.000</td>\n",
       "    </tr>\n",
       "    <tr>\n",
       "      <th>43428</th>\n",
       "      <td>As advertised, no complaints. Great place to c...</td>\n",
       "      <td>-0.3612</td>\n",
       "      <td>0.406</td>\n",
       "      <td>0.374</td>\n",
       "      <td>0.219</td>\n",
       "    </tr>\n",
       "    <tr>\n",
       "      <th>43847</th>\n",
       "      <td>This shouldn't be mandatory</td>\n",
       "      <td>-0.0572</td>\n",
       "      <td>0.289</td>\n",
       "      <td>0.711</td>\n",
       "      <td>0.000</td>\n",
       "    </tr>\n",
       "    <tr>\n",
       "      <th>43894</th>\n",
       "      <td>Beds were hard</td>\n",
       "      <td>-0.1027</td>\n",
       "      <td>0.412</td>\n",
       "      <td>0.588</td>\n",
       "      <td>0.000</td>\n",
       "    </tr>\n",
       "    <tr>\n",
       "      <th>44083</th>\n",
       "      <td>The place is dirty and stinks.</td>\n",
       "      <td>-0.5994</td>\n",
       "      <td>0.551</td>\n",
       "      <td>0.449</td>\n",
       "      <td>0.000</td>\n",
       "    </tr>\n",
       "  </tbody>\n",
       "</table>\n",
       "<p>296 rows × 5 columns</p>\n",
       "</div>"
      ],
      "text/plain": [
       "                                                  review  compound  \\\n",
       "523    Phenomenal location. Summer travelers be aware...   -0.6240   \n",
       "1496   Didnâ€™t meet the host, but he was quick with ...   -0.1901   \n",
       "1657   We couldn't have more pleased with our stay! M...   -0.4951   \n",
       "1875   Sarah was very receptive to concerns and misun...   -0.1989   \n",
       "1902   I absolutely adored this house. It was perfect...   -0.0770   \n",
       "...                                                  ...       ...   \n",
       "43418  The air-conditioning doesn't work. The upstair...   -0.6486   \n",
       "43428  As advertised, no complaints. Great place to c...   -0.3612   \n",
       "43847                        This shouldn't be mandatory   -0.0572   \n",
       "43894                                     Beds were hard   -0.1027   \n",
       "44083                     The place is dirty and stinks.   -0.5994   \n",
       "\n",
       "       negativity  neutrality  positivity  \n",
       "523         0.195       0.805       0.000  \n",
       "1496        0.166       0.722       0.111  \n",
       "1657        0.186       0.814       0.000  \n",
       "1875        0.088       0.850       0.062  \n",
       "1902        0.225       0.585       0.189  \n",
       "...           ...         ...         ...  \n",
       "43418       0.209       0.791       0.000  \n",
       "43428       0.406       0.374       0.219  \n",
       "43847       0.289       0.711       0.000  \n",
       "43894       0.412       0.588       0.000  \n",
       "44083       0.551       0.449       0.000  \n",
       "\n",
       "[296 rows x 5 columns]"
      ]
     },
     "execution_count": 39,
     "metadata": {},
     "output_type": "execute_result"
    }
   ],
   "source": [
    "scored_reviews.query('negativity > positivity')"
   ]
  },
  {
   "cell_type": "markdown",
   "metadata": {},
   "source": [
    "#### Overall Sentiment performance was good"
   ]
  },
  {
   "cell_type": "markdown",
   "metadata": {},
   "source": [
    "We have looked at some extreme cases where there's a lack of accuracy in the score. But, NLTK's general performance to classify the review was great. Utilizing the compound score, most sentiment classifies well. \n",
    "Next, if we wanted to look at the performance consistency, another dataset that has a mixed review should be tested."
   ]
  },
  {
   "cell_type": "markdown",
   "metadata": {},
   "source": [
    "## Summary & Future Work"
   ]
  },
  {
   "cell_type": "markdown",
   "metadata": {},
   "source": [
    "- Airbnb has a pleasant experience when using the service, the ratings were ±90%\n",
    "- Reviews have missing values and treated with filling in blanks\n",
    "- Data cleaning with removing stopwords is essential to find the most frequent word\n",
    "- NLTK able to classify the sentiment category well enough. But, sometimes would need human assistance to improve its accuracy in a fraction of cases\n",
    "- Business should take action for the bad review from the negative score and reading customers' complaints. \n",
    "- For future research, we need to compare other datasets that have mixed reviews."
   ]
  },
  {
   "cell_type": "code",
   "execution_count": null,
   "metadata": {},
   "outputs": [],
   "source": []
  }
 ],
 "metadata": {
  "kernelspec": {
   "display_name": "Python 3 (ipykernel)",
   "language": "python",
   "name": "python3"
  },
  "language_info": {
   "codemirror_mode": {
    "name": "ipython",
    "version": 3
   },
   "file_extension": ".py",
   "mimetype": "text/x-python",
   "name": "python",
   "nbconvert_exporter": "python",
   "pygments_lexer": "ipython3",
   "version": "3.9.13"
  }
 },
 "nbformat": 4,
 "nbformat_minor": 4
}
